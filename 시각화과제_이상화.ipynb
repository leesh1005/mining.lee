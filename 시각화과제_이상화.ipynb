{
  "nbformat": 4,
  "nbformat_minor": 0,
  "metadata": {
    "colab": {
      "provenance": [],
      "collapsed_sections": [],
      "authorship_tag": "ABX9TyPDquFLFmTv2Wzcz//bprbf",
      "include_colab_link": true
    },
    "kernelspec": {
      "name": "python3",
      "display_name": "Python 3"
    },
    "language_info": {
      "name": "python"
    }
  },
  "cells": [
    {
      "cell_type": "markdown",
      "metadata": {
        "id": "view-in-github",
        "colab_type": "text"
      },
      "source": [
        "<a href=\"https://colab.research.google.com/github/leesh1005/mining2022/blob/main/%EC%8B%9C%EA%B0%81%ED%99%94%EA%B3%BC%EC%A0%9C_%EC%9D%B4%EC%83%81%ED%99%94.ipynb\" target=\"_parent\"><img src=\"https://colab.research.google.com/assets/colab-badge.svg\" alt=\"Open In Colab\"/></a>"
      ]
    },
    {
      "cell_type": "code",
      "execution_count": 121,
      "metadata": {
        "id": "fBg2IfRi2QWM"
      },
      "outputs": [],
      "source": [
        "%matplotlib inline\n",
        "import pandas as pd\n",
        "import seaborn as sns"
      ]
    },
    {
      "cell_type": "code",
      "source": [
        "sns.set_style(\"whitegrid\")"
      ],
      "metadata": {
        "id": "syjK1-kd2UeA"
      },
      "execution_count": 2,
      "outputs": []
    },
    {
      "cell_type": "code",
      "source": [
        "from google.colab import drive\n",
        "drive.mount('/content/drive')"
      ],
      "metadata": {
        "colab": {
          "base_uri": "https://localhost:8080/"
        },
        "id": "pBhC7ona2XsI",
        "outputId": "eefbe01b-8f3f-4186-8c5e-9b3ab4f60113"
      },
      "execution_count": 3,
      "outputs": [
        {
          "output_type": "stream",
          "name": "stdout",
          "text": [
            "Drive already mounted at /content/drive; to attempt to forcibly remount, call drive.mount(\"/content/drive\", force_remount=True).\n"
          ]
        }
      ]
    },
    {
      "cell_type": "code",
      "source": [
        "health = pd.read_csv(\"/content/drive/My Drive/Colab Notebooks/health_data.csv\")\n"
      ],
      "metadata": {
        "id": "GD6ODUwZ2b8N"
      },
      "execution_count": 4,
      "outputs": []
    },
    {
      "cell_type": "code",
      "source": [
        "df=health"
      ],
      "metadata": {
        "id": "CBM9-T552epg"
      },
      "execution_count": 5,
      "outputs": []
    },
    {
      "cell_type": "code",
      "source": [
        "\n",
        "%matplotlib inline\n",
        "import matplotlib as mpl               \n",
        "import matplotlib.pyplot as plt        \n",
        "import matplotlib.font_manager as fm   \n",
        "\n",
        "mpl.rcParams['axes.unicode_minus'] = False  \n",
        "\n",
        "\n",
        "path ='/content/drive/My Drive/Colab Notebooks/NanumGothicEco.ttf'\n",
        "font_name = fm.FontProperties(fname=path, size=10).get_name()\n",
        "print(font_name)\n",
        "\n",
        "plt.rc('font', family=font_name)"
      ],
      "metadata": {
        "colab": {
          "base_uri": "https://localhost:8080/"
        },
        "id": "Qunul_0A2gz4",
        "outputId": "027fa542-65c2-4d2c-874b-41b34cefb6cd"
      },
      "execution_count": 6,
      "outputs": [
        {
          "output_type": "stream",
          "name": "stdout",
          "text": [
            "NanumGothic Eco\n"
          ]
        }
      ]
    },
    {
      "cell_type": "code",
      "source": [
        " df.rename(columns={'시도코드':'시도', \n",
        "                    '연령대코드(5세단위)':'연령대',\n",
        "                    '신장(5Cm단위)':'신장',\n",
        "                    '체중(5Kg 단위)':'체중'}, inplace=True)"
      ],
      "metadata": {
        "id": "o7so960y48aw"
      },
      "execution_count": 35,
      "outputs": []
    },
    {
      "cell_type": "code",
      "source": [
        "df.info() "
      ],
      "metadata": {
        "colab": {
          "base_uri": "https://localhost:8080/"
        },
        "id": "Ac_JLeP_4a2-",
        "outputId": "c170b7da-185b-4418-f659-77fffca00149"
      },
      "execution_count": 36,
      "outputs": [
        {
          "output_type": "stream",
          "name": "stdout",
          "text": [
            "<class 'pandas.core.frame.DataFrame'>\n",
            "RangeIndex: 10000 entries, 0 to 9999\n",
            "Data columns (total 31 columns):\n",
            " #   Column      Non-Null Count  Dtype  \n",
            "---  ------      --------------  -----  \n",
            " 0   기준년도        10000 non-null  int64  \n",
            " 1   가입자일련번호     10000 non-null  int64  \n",
            " 2   시도          10000 non-null  int64  \n",
            " 3   성별코드        10000 non-null  object \n",
            " 4   연령대         10000 non-null  int64  \n",
            " 5   신장          10000 non-null  int64  \n",
            " 6   체중          10000 non-null  int64  \n",
            " 7   허리둘레        10000 non-null  float64\n",
            " 8   시력(좌)       10000 non-null  float64\n",
            " 9   시력(우)       10000 non-null  float64\n",
            " 10  청력(좌)       10000 non-null  int64  \n",
            " 11  청력(우)       10000 non-null  int64  \n",
            " 12  수축기혈압       9912 non-null   float64\n",
            " 13  이완기혈압       9912 non-null   float64\n",
            " 14  식전혈당(공복혈당)  9912 non-null   float64\n",
            " 15  총콜레스테롤      4044 non-null   float64\n",
            " 16  트리글리세라이드    4044 non-null   float64\n",
            " 17  HDL콜레스테롤    4044 non-null   float64\n",
            " 18  LDL콜레스테롤    3977 non-null   float64\n",
            " 19  혈색소         9912 non-null   float64\n",
            " 20  요단백         9861 non-null   float64\n",
            " 21  혈청크레아티닌     9912 non-null   float64\n",
            " 22  (혈청지오티)AST  9912 non-null   float64\n",
            " 23  (혈청지오티)ALT  9912 non-null   float64\n",
            " 24  감마지티피       9912 non-null   float64\n",
            " 25  흡연상태        9998 non-null   object \n",
            " 26  음주여부        9999 non-null   object \n",
            " 27  구강검진수검여부    10000 non-null  int64  \n",
            " 28  치아우식증유무     3251 non-null   float64\n",
            " 29  치석          3251 non-null   float64\n",
            " 30  데이터공개일자     10000 non-null  object \n",
            "dtypes: float64(18), int64(9), object(4)\n",
            "memory usage: 2.4+ MB\n"
          ]
        }
      ]
    },
    {
      "cell_type": "code",
      "source": [
        "#bmi 변수 추가\n",
        "df['bmi']=df['체중']/((df['신장']/100)*(df['신장']/100))"
      ],
      "metadata": {
        "id": "8LHzwE-SBO0u"
      },
      "execution_count": 66,
      "outputs": []
    },
    {
      "cell_type": "code",
      "source": [
        "df.drop(columns='BMI', inplace=True)"
      ],
      "metadata": {
        "id": "hh965vA3By_C"
      },
      "execution_count": 68,
      "outputs": []
    },
    {
      "cell_type": "code",
      "source": [
        "display(df)"
      ],
      "metadata": {
        "colab": {
          "base_uri": "https://localhost:8080/",
          "height": 520
        },
        "id": "FdYSLZPPBMmb",
        "outputId": "256a4fbf-3d98-430b-ea1f-7ace4ec2c7a1"
      },
      "execution_count": 69,
      "outputs": [
        {
          "output_type": "display_data",
          "data": {
            "text/plain": [
              "      기준년도  가입자일련번호  시도 성별코드  연령대   신장  체중   허리둘레  시력(좌)  시력(우)  ...  \\\n",
              "0     2020        1  36    M    9  165  60   72.1    1.2    1.5  ...   \n",
              "1     2020        2  27    F   13  150  65   81.0    0.8    0.8  ...   \n",
              "2     2020        3  11    F   12  155  55   70.0    0.6    0.7  ...   \n",
              "3     2020        4  31    M   13  160  70   90.8    1.0    1.0  ...   \n",
              "4     2020        5  41    F   12  155  50   75.2    1.5    1.2  ...   \n",
              "...    ...      ...  ..  ...  ...  ...  ..    ...    ...    ...  ...   \n",
              "9995  2020     9996  44    F   13  155  55   83.0    1.2    1.2  ...   \n",
              "9996  2020     9997  43    F   11  160  55   77.5    1.0    1.2  ...   \n",
              "9997  2020     9998  45    M   12  160  80   93.0    0.6    0.6  ...   \n",
              "9998  2020     9999  27    F   15  155  55   78.0    0.6    1.0  ...   \n",
              "9999  2020    10000  45    F   13  160  75  100.0    0.5    0.5  ...   \n",
              "\n",
              "      (혈청지오티)AST  (혈청지오티)ALT  감마지티피    흡연상태  음주여부  구강검진수검여부  치아우식증유무   치석  \\\n",
              "0           21.0        27.0   21.0      No    No         0      NaN  NaN   \n",
              "1           18.0        15.0   15.0      No    No         0      NaN  NaN   \n",
              "2           27.0        25.0    7.0      No    No         0      NaN  NaN   \n",
              "3           65.0        97.0   72.0      No    No         1      0.0  0.0   \n",
              "4           18.0        17.0   14.0      No    No         0      NaN  NaN   \n",
              "...          ...         ...    ...     ...   ...       ...      ...  ...   \n",
              "9995        20.0        21.0   20.0      No   Yes         0      NaN  NaN   \n",
              "9996        24.0        22.0   21.0      No   Yes         1      0.0  0.0   \n",
              "9997        22.0        27.0   35.0      No    No         0      NaN  NaN   \n",
              "9998        26.0        24.0   21.0      No    No         0      NaN  NaN   \n",
              "9999        32.0        24.0   30.0  NotNow   Yes         0      NaN  NaN   \n",
              "\n",
              "         데이터공개일자        bmi  \n",
              "0     12/29/2021  22.038567  \n",
              "1     12/29/2021  28.888889  \n",
              "2     12/29/2021  22.892820  \n",
              "3     12/29/2021  27.343750  \n",
              "4     12/29/2021  20.811655  \n",
              "...          ...        ...  \n",
              "9995  12/29/2021  22.892820  \n",
              "9996  12/29/2021  21.484375  \n",
              "9997  12/29/2021  31.250000  \n",
              "9998  12/29/2021  22.892820  \n",
              "9999  12/29/2021  29.296875  \n",
              "\n",
              "[10000 rows x 32 columns]"
            ],
            "text/html": [
              "\n",
              "  <div id=\"df-6a5419f4-79fe-4dcf-8ae2-2e968aaeea8c\">\n",
              "    <div class=\"colab-df-container\">\n",
              "      <div>\n",
              "<style scoped>\n",
              "    .dataframe tbody tr th:only-of-type {\n",
              "        vertical-align: middle;\n",
              "    }\n",
              "\n",
              "    .dataframe tbody tr th {\n",
              "        vertical-align: top;\n",
              "    }\n",
              "\n",
              "    .dataframe thead th {\n",
              "        text-align: right;\n",
              "    }\n",
              "</style>\n",
              "<table border=\"1\" class=\"dataframe\">\n",
              "  <thead>\n",
              "    <tr style=\"text-align: right;\">\n",
              "      <th></th>\n",
              "      <th>기준년도</th>\n",
              "      <th>가입자일련번호</th>\n",
              "      <th>시도</th>\n",
              "      <th>성별코드</th>\n",
              "      <th>연령대</th>\n",
              "      <th>신장</th>\n",
              "      <th>체중</th>\n",
              "      <th>허리둘레</th>\n",
              "      <th>시력(좌)</th>\n",
              "      <th>시력(우)</th>\n",
              "      <th>...</th>\n",
              "      <th>(혈청지오티)AST</th>\n",
              "      <th>(혈청지오티)ALT</th>\n",
              "      <th>감마지티피</th>\n",
              "      <th>흡연상태</th>\n",
              "      <th>음주여부</th>\n",
              "      <th>구강검진수검여부</th>\n",
              "      <th>치아우식증유무</th>\n",
              "      <th>치석</th>\n",
              "      <th>데이터공개일자</th>\n",
              "      <th>bmi</th>\n",
              "    </tr>\n",
              "  </thead>\n",
              "  <tbody>\n",
              "    <tr>\n",
              "      <th>0</th>\n",
              "      <td>2020</td>\n",
              "      <td>1</td>\n",
              "      <td>36</td>\n",
              "      <td>M</td>\n",
              "      <td>9</td>\n",
              "      <td>165</td>\n",
              "      <td>60</td>\n",
              "      <td>72.1</td>\n",
              "      <td>1.2</td>\n",
              "      <td>1.5</td>\n",
              "      <td>...</td>\n",
              "      <td>21.0</td>\n",
              "      <td>27.0</td>\n",
              "      <td>21.0</td>\n",
              "      <td>No</td>\n",
              "      <td>No</td>\n",
              "      <td>0</td>\n",
              "      <td>NaN</td>\n",
              "      <td>NaN</td>\n",
              "      <td>12/29/2021</td>\n",
              "      <td>22.038567</td>\n",
              "    </tr>\n",
              "    <tr>\n",
              "      <th>1</th>\n",
              "      <td>2020</td>\n",
              "      <td>2</td>\n",
              "      <td>27</td>\n",
              "      <td>F</td>\n",
              "      <td>13</td>\n",
              "      <td>150</td>\n",
              "      <td>65</td>\n",
              "      <td>81.0</td>\n",
              "      <td>0.8</td>\n",
              "      <td>0.8</td>\n",
              "      <td>...</td>\n",
              "      <td>18.0</td>\n",
              "      <td>15.0</td>\n",
              "      <td>15.0</td>\n",
              "      <td>No</td>\n",
              "      <td>No</td>\n",
              "      <td>0</td>\n",
              "      <td>NaN</td>\n",
              "      <td>NaN</td>\n",
              "      <td>12/29/2021</td>\n",
              "      <td>28.888889</td>\n",
              "    </tr>\n",
              "    <tr>\n",
              "      <th>2</th>\n",
              "      <td>2020</td>\n",
              "      <td>3</td>\n",
              "      <td>11</td>\n",
              "      <td>F</td>\n",
              "      <td>12</td>\n",
              "      <td>155</td>\n",
              "      <td>55</td>\n",
              "      <td>70.0</td>\n",
              "      <td>0.6</td>\n",
              "      <td>0.7</td>\n",
              "      <td>...</td>\n",
              "      <td>27.0</td>\n",
              "      <td>25.0</td>\n",
              "      <td>7.0</td>\n",
              "      <td>No</td>\n",
              "      <td>No</td>\n",
              "      <td>0</td>\n",
              "      <td>NaN</td>\n",
              "      <td>NaN</td>\n",
              "      <td>12/29/2021</td>\n",
              "      <td>22.892820</td>\n",
              "    </tr>\n",
              "    <tr>\n",
              "      <th>3</th>\n",
              "      <td>2020</td>\n",
              "      <td>4</td>\n",
              "      <td>31</td>\n",
              "      <td>M</td>\n",
              "      <td>13</td>\n",
              "      <td>160</td>\n",
              "      <td>70</td>\n",
              "      <td>90.8</td>\n",
              "      <td>1.0</td>\n",
              "      <td>1.0</td>\n",
              "      <td>...</td>\n",
              "      <td>65.0</td>\n",
              "      <td>97.0</td>\n",
              "      <td>72.0</td>\n",
              "      <td>No</td>\n",
              "      <td>No</td>\n",
              "      <td>1</td>\n",
              "      <td>0.0</td>\n",
              "      <td>0.0</td>\n",
              "      <td>12/29/2021</td>\n",
              "      <td>27.343750</td>\n",
              "    </tr>\n",
              "    <tr>\n",
              "      <th>4</th>\n",
              "      <td>2020</td>\n",
              "      <td>5</td>\n",
              "      <td>41</td>\n",
              "      <td>F</td>\n",
              "      <td>12</td>\n",
              "      <td>155</td>\n",
              "      <td>50</td>\n",
              "      <td>75.2</td>\n",
              "      <td>1.5</td>\n",
              "      <td>1.2</td>\n",
              "      <td>...</td>\n",
              "      <td>18.0</td>\n",
              "      <td>17.0</td>\n",
              "      <td>14.0</td>\n",
              "      <td>No</td>\n",
              "      <td>No</td>\n",
              "      <td>0</td>\n",
              "      <td>NaN</td>\n",
              "      <td>NaN</td>\n",
              "      <td>12/29/2021</td>\n",
              "      <td>20.811655</td>\n",
              "    </tr>\n",
              "    <tr>\n",
              "      <th>...</th>\n",
              "      <td>...</td>\n",
              "      <td>...</td>\n",
              "      <td>...</td>\n",
              "      <td>...</td>\n",
              "      <td>...</td>\n",
              "      <td>...</td>\n",
              "      <td>...</td>\n",
              "      <td>...</td>\n",
              "      <td>...</td>\n",
              "      <td>...</td>\n",
              "      <td>...</td>\n",
              "      <td>...</td>\n",
              "      <td>...</td>\n",
              "      <td>...</td>\n",
              "      <td>...</td>\n",
              "      <td>...</td>\n",
              "      <td>...</td>\n",
              "      <td>...</td>\n",
              "      <td>...</td>\n",
              "      <td>...</td>\n",
              "      <td>...</td>\n",
              "    </tr>\n",
              "    <tr>\n",
              "      <th>9995</th>\n",
              "      <td>2020</td>\n",
              "      <td>9996</td>\n",
              "      <td>44</td>\n",
              "      <td>F</td>\n",
              "      <td>13</td>\n",
              "      <td>155</td>\n",
              "      <td>55</td>\n",
              "      <td>83.0</td>\n",
              "      <td>1.2</td>\n",
              "      <td>1.2</td>\n",
              "      <td>...</td>\n",
              "      <td>20.0</td>\n",
              "      <td>21.0</td>\n",
              "      <td>20.0</td>\n",
              "      <td>No</td>\n",
              "      <td>Yes</td>\n",
              "      <td>0</td>\n",
              "      <td>NaN</td>\n",
              "      <td>NaN</td>\n",
              "      <td>12/29/2021</td>\n",
              "      <td>22.892820</td>\n",
              "    </tr>\n",
              "    <tr>\n",
              "      <th>9996</th>\n",
              "      <td>2020</td>\n",
              "      <td>9997</td>\n",
              "      <td>43</td>\n",
              "      <td>F</td>\n",
              "      <td>11</td>\n",
              "      <td>160</td>\n",
              "      <td>55</td>\n",
              "      <td>77.5</td>\n",
              "      <td>1.0</td>\n",
              "      <td>1.2</td>\n",
              "      <td>...</td>\n",
              "      <td>24.0</td>\n",
              "      <td>22.0</td>\n",
              "      <td>21.0</td>\n",
              "      <td>No</td>\n",
              "      <td>Yes</td>\n",
              "      <td>1</td>\n",
              "      <td>0.0</td>\n",
              "      <td>0.0</td>\n",
              "      <td>12/29/2021</td>\n",
              "      <td>21.484375</td>\n",
              "    </tr>\n",
              "    <tr>\n",
              "      <th>9997</th>\n",
              "      <td>2020</td>\n",
              "      <td>9998</td>\n",
              "      <td>45</td>\n",
              "      <td>M</td>\n",
              "      <td>12</td>\n",
              "      <td>160</td>\n",
              "      <td>80</td>\n",
              "      <td>93.0</td>\n",
              "      <td>0.6</td>\n",
              "      <td>0.6</td>\n",
              "      <td>...</td>\n",
              "      <td>22.0</td>\n",
              "      <td>27.0</td>\n",
              "      <td>35.0</td>\n",
              "      <td>No</td>\n",
              "      <td>No</td>\n",
              "      <td>0</td>\n",
              "      <td>NaN</td>\n",
              "      <td>NaN</td>\n",
              "      <td>12/29/2021</td>\n",
              "      <td>31.250000</td>\n",
              "    </tr>\n",
              "    <tr>\n",
              "      <th>9998</th>\n",
              "      <td>2020</td>\n",
              "      <td>9999</td>\n",
              "      <td>27</td>\n",
              "      <td>F</td>\n",
              "      <td>15</td>\n",
              "      <td>155</td>\n",
              "      <td>55</td>\n",
              "      <td>78.0</td>\n",
              "      <td>0.6</td>\n",
              "      <td>1.0</td>\n",
              "      <td>...</td>\n",
              "      <td>26.0</td>\n",
              "      <td>24.0</td>\n",
              "      <td>21.0</td>\n",
              "      <td>No</td>\n",
              "      <td>No</td>\n",
              "      <td>0</td>\n",
              "      <td>NaN</td>\n",
              "      <td>NaN</td>\n",
              "      <td>12/29/2021</td>\n",
              "      <td>22.892820</td>\n",
              "    </tr>\n",
              "    <tr>\n",
              "      <th>9999</th>\n",
              "      <td>2020</td>\n",
              "      <td>10000</td>\n",
              "      <td>45</td>\n",
              "      <td>F</td>\n",
              "      <td>13</td>\n",
              "      <td>160</td>\n",
              "      <td>75</td>\n",
              "      <td>100.0</td>\n",
              "      <td>0.5</td>\n",
              "      <td>0.5</td>\n",
              "      <td>...</td>\n",
              "      <td>32.0</td>\n",
              "      <td>24.0</td>\n",
              "      <td>30.0</td>\n",
              "      <td>NotNow</td>\n",
              "      <td>Yes</td>\n",
              "      <td>0</td>\n",
              "      <td>NaN</td>\n",
              "      <td>NaN</td>\n",
              "      <td>12/29/2021</td>\n",
              "      <td>29.296875</td>\n",
              "    </tr>\n",
              "  </tbody>\n",
              "</table>\n",
              "<p>10000 rows × 32 columns</p>\n",
              "</div>\n",
              "      <button class=\"colab-df-convert\" onclick=\"convertToInteractive('df-6a5419f4-79fe-4dcf-8ae2-2e968aaeea8c')\"\n",
              "              title=\"Convert this dataframe to an interactive table.\"\n",
              "              style=\"display:none;\">\n",
              "        \n",
              "  <svg xmlns=\"http://www.w3.org/2000/svg\" height=\"24px\"viewBox=\"0 0 24 24\"\n",
              "       width=\"24px\">\n",
              "    <path d=\"M0 0h24v24H0V0z\" fill=\"none\"/>\n",
              "    <path d=\"M18.56 5.44l.94 2.06.94-2.06 2.06-.94-2.06-.94-.94-2.06-.94 2.06-2.06.94zm-11 1L8.5 8.5l.94-2.06 2.06-.94-2.06-.94L8.5 2.5l-.94 2.06-2.06.94zm10 10l.94 2.06.94-2.06 2.06-.94-2.06-.94-.94-2.06-.94 2.06-2.06.94z\"/><path d=\"M17.41 7.96l-1.37-1.37c-.4-.4-.92-.59-1.43-.59-.52 0-1.04.2-1.43.59L10.3 9.45l-7.72 7.72c-.78.78-.78 2.05 0 2.83L4 21.41c.39.39.9.59 1.41.59.51 0 1.02-.2 1.41-.59l7.78-7.78 2.81-2.81c.8-.78.8-2.07 0-2.86zM5.41 20L4 18.59l7.72-7.72 1.47 1.35L5.41 20z\"/>\n",
              "  </svg>\n",
              "      </button>\n",
              "      \n",
              "  <style>\n",
              "    .colab-df-container {\n",
              "      display:flex;\n",
              "      flex-wrap:wrap;\n",
              "      gap: 12px;\n",
              "    }\n",
              "\n",
              "    .colab-df-convert {\n",
              "      background-color: #E8F0FE;\n",
              "      border: none;\n",
              "      border-radius: 50%;\n",
              "      cursor: pointer;\n",
              "      display: none;\n",
              "      fill: #1967D2;\n",
              "      height: 32px;\n",
              "      padding: 0 0 0 0;\n",
              "      width: 32px;\n",
              "    }\n",
              "\n",
              "    .colab-df-convert:hover {\n",
              "      background-color: #E2EBFA;\n",
              "      box-shadow: 0px 1px 2px rgba(60, 64, 67, 0.3), 0px 1px 3px 1px rgba(60, 64, 67, 0.15);\n",
              "      fill: #174EA6;\n",
              "    }\n",
              "\n",
              "    [theme=dark] .colab-df-convert {\n",
              "      background-color: #3B4455;\n",
              "      fill: #D2E3FC;\n",
              "    }\n",
              "\n",
              "    [theme=dark] .colab-df-convert:hover {\n",
              "      background-color: #434B5C;\n",
              "      box-shadow: 0px 1px 3px 1px rgba(0, 0, 0, 0.15);\n",
              "      filter: drop-shadow(0px 1px 2px rgba(0, 0, 0, 0.3));\n",
              "      fill: #FFFFFF;\n",
              "    }\n",
              "  </style>\n",
              "\n",
              "      <script>\n",
              "        const buttonEl =\n",
              "          document.querySelector('#df-6a5419f4-79fe-4dcf-8ae2-2e968aaeea8c button.colab-df-convert');\n",
              "        buttonEl.style.display =\n",
              "          google.colab.kernel.accessAllowed ? 'block' : 'none';\n",
              "\n",
              "        async function convertToInteractive(key) {\n",
              "          const element = document.querySelector('#df-6a5419f4-79fe-4dcf-8ae2-2e968aaeea8c');\n",
              "          const dataTable =\n",
              "            await google.colab.kernel.invokeFunction('convertToInteractive',\n",
              "                                                     [key], {});\n",
              "          if (!dataTable) return;\n",
              "\n",
              "          const docLinkHtml = 'Like what you see? Visit the ' +\n",
              "            '<a target=\"_blank\" href=https://colab.research.google.com/notebooks/data_table.ipynb>data table notebook</a>'\n",
              "            + ' to learn more about interactive tables.';\n",
              "          element.innerHTML = '';\n",
              "          dataTable['output_type'] = 'display_data';\n",
              "          await google.colab.output.renderOutput(dataTable, element);\n",
              "          const docLink = document.createElement('div');\n",
              "          docLink.innerHTML = docLinkHtml;\n",
              "          element.appendChild(docLink);\n",
              "        }\n",
              "      </script>\n",
              "    </div>\n",
              "  </div>\n",
              "  "
            ]
          },
          "metadata": {}
        }
      ]
    },
    {
      "cell_type": "code",
      "source": [
        "health.info()"
      ],
      "metadata": {
        "colab": {
          "base_uri": "https://localhost:8080/"
        },
        "id": "z1c5YVgTLOrV",
        "outputId": "80a84cfa-159b-49dc-90b7-c3db7de940b9"
      },
      "execution_count": 111,
      "outputs": [
        {
          "output_type": "stream",
          "name": "stdout",
          "text": [
            "<class 'pandas.core.frame.DataFrame'>\n",
            "RangeIndex: 10000 entries, 0 to 9999\n",
            "Data columns (total 33 columns):\n",
            " #   Column      Non-Null Count  Dtype  \n",
            "---  ------      --------------  -----  \n",
            " 0   기준년도        10000 non-null  int64  \n",
            " 1   가입자일련번호     10000 non-null  int64  \n",
            " 2   시도          10000 non-null  int64  \n",
            " 3   성별코드        10000 non-null  object \n",
            " 4   연령대         10000 non-null  int64  \n",
            " 5   신장          10000 non-null  int64  \n",
            " 6   체중          10000 non-null  int64  \n",
            " 7   허리둘레        10000 non-null  float64\n",
            " 8   시력(좌)       10000 non-null  float64\n",
            " 9   시력(우)       10000 non-null  float64\n",
            " 10  청력(좌)       10000 non-null  int64  \n",
            " 11  청력(우)       10000 non-null  int64  \n",
            " 12  수축기혈압       9912 non-null   float64\n",
            " 13  이완기혈압       9912 non-null   float64\n",
            " 14  식전혈당(공복혈당)  9912 non-null   float64\n",
            " 15  총콜레스테롤      4044 non-null   float64\n",
            " 16  트리글리세라이드    4044 non-null   float64\n",
            " 17  HDL콜레스테롤    4044 non-null   float64\n",
            " 18  LDL콜레스테롤    3977 non-null   float64\n",
            " 19  혈색소         9912 non-null   float64\n",
            " 20  요단백         9861 non-null   float64\n",
            " 21  혈청크레아티닌     9912 non-null   float64\n",
            " 22  (혈청지오티)AST  9912 non-null   float64\n",
            " 23  (혈청지오티)ALT  9912 non-null   float64\n",
            " 24  감마지티피       9912 non-null   float64\n",
            " 25  흡연상태        9998 non-null   object \n",
            " 26  음주여부        9999 non-null   object \n",
            " 27  구강검진수검여부    10000 non-null  int64  \n",
            " 28  치아우식증유무     3251 non-null   float64\n",
            " 29  치석          3251 non-null   float64\n",
            " 30  데이터공개일자     10000 non-null  object \n",
            " 31  bmi         10000 non-null  float64\n",
            " 32  비만도         10000 non-null  float64\n",
            "dtypes: float64(20), int64(9), object(4)\n",
            "memory usage: 2.5+ MB\n"
          ]
        }
      ]
    },
    {
      "cell_type": "markdown",
      "source": [
        "### 1. 연령대별 비만도\n",
        "\n",
        "\n",
        "*   연령대별 평균 신장\n",
        "\n",
        "\n",
        "\n",
        "\n",
        "\n",
        "\n",
        "\n",
        "\n",
        "\n",
        "\n",
        "\n",
        "\n"
      ],
      "metadata": {
        "id": "siYNk7JaHW6A"
      }
    },
    {
      "cell_type": "code",
      "source": [
        "df_health = health.groupby('연령대' , as_index = False).agg( 평균신장= ('신장', 'mean'))\n",
        "sns.barplot(data=df_health, x='연령대', y='평균신장')"
      ],
      "metadata": {
        "colab": {
          "base_uri": "https://localhost:8080/",
          "height": 297
        },
        "id": "6AtRz-qWGX0z",
        "outputId": "b883700c-cdde-4f29-db4f-228a8de98b0d"
      },
      "execution_count": 96,
      "outputs": [
        {
          "output_type": "execute_result",
          "data": {
            "text/plain": [
              "<matplotlib.axes._subplots.AxesSubplot at 0x7f1574bbcdd0>"
            ]
          },
          "metadata": {},
          "execution_count": 96
        },
        {
          "output_type": "display_data",
          "data": {
            "text/plain": [
              "<Figure size 432x288 with 1 Axes>"
            ],
            "image/png": "[encoded data removed]"
          },
          "metadata": {
            "needs_background": "light"
          }
        }
      ]
    },
    {
      "cell_type": "markdown",
      "source": [
        "가장 평균신장이 큰 그룹은 연령대코드 9(49-44세)이며, 연령이 높아질수록 평균 신장이 작아짐을 알 수 있다."
      ],
      "metadata": {
        "id": "97kOncHSJcV8"
      }
    },
    {
      "cell_type": "markdown",
      "source": [
        "* 연령대별 평균 체중\n",
        "\n",
        "\n",
        "\n"
      ],
      "metadata": {
        "id": "bkzRgJrcHZO5"
      }
    },
    {
      "cell_type": "code",
      "source": [
        "df_health = health.groupby('연령대' , as_index = False).agg( 평균체중= ('체중', 'mean'))\n",
        "sns.barplot(data=df_health, x='연령대', y='평균체중')"
      ],
      "metadata": {
        "colab": {
          "base_uri": "https://localhost:8080/",
          "height": 299
        },
        "id": "gIPht8sFGoR0",
        "outputId": "ffad7ea6-7b6e-4f01-ed45-0b045de058e7"
      },
      "execution_count": 97,
      "outputs": [
        {
          "output_type": "execute_result",
          "data": {
            "text/plain": [
              "<matplotlib.axes._subplots.AxesSubplot at 0x7f1574ae4ad0>"
            ]
          },
          "metadata": {},
          "execution_count": 97
        },
        {
          "output_type": "display_data",
          "data": {
            "text/plain": [
              "<Figure size 432x288 with 1 Axes>"
            ],
            "image/png": "[encoded data removed]"
          },
          "metadata": {
            "needs_background": "light"
          }
        }
      ]
    },
    {
      "cell_type": "markdown",
      "source": [
        "평균 체중 또한 평균 신장과 비슷한 추세를 보인다."
      ],
      "metadata": {
        "id": "aSCrpAw0JrIH"
      }
    },
    {
      "cell_type": "markdown",
      "source": [
        "* 연령대별 평균 bmi"
      ],
      "metadata": {
        "id": "JDt41J7nCNkv"
      }
    },
    {
      "cell_type": "code",
      "source": [
        "df_health = health.groupby('연령대' , as_index = False).agg( 평균bmi= ('bmi', 'mean'))\n",
        "sns.barplot(data=df_health, x='연령대', y='평균bmi')"
      ],
      "metadata": {
        "colab": {
          "base_uri": "https://localhost:8080/",
          "height": 297
        },
        "id": "MsYexpnyB58v",
        "outputId": "da6127d7-93be-4d4b-cf80-cb78bb69d678"
      },
      "execution_count": 100,
      "outputs": [
        {
          "output_type": "execute_result",
          "data": {
            "text/plain": [
              "<matplotlib.axes._subplots.AxesSubplot at 0x7f15749f16d0>"
            ]
          },
          "metadata": {},
          "execution_count": 100
        },
        {
          "output_type": "display_data",
          "data": {
            "text/plain": [
              "<Figure size 432x288 with 1 Axes>"
            ],
            "image/png": "[encoded data removed]"
          },
          "metadata": {
            "needs_background": "light"
          }
        }
      ]
    },
    {
      "cell_type": "code",
      "source": [],
      "metadata": {
        "id": "TtPFX6iCPnGJ"
      },
      "execution_count": null,
      "outputs": []
    },
    {
      "cell_type": "markdown",
      "source": [],
      "metadata": {
        "id": "OjyFNHssPk91"
      }
    },
    {
      "cell_type": "markdown",
      "source": [
        "### 2. 음주여부에 따른 체중별 bmi\n",
        "\n",
        "\n"
      ],
      "metadata": {
        "id": "Rl6jp7dyHutJ"
      }
    },
    {
      "cell_type": "code",
      "source": [
        "sns.lineplot(data = health, x='체중', y = 'bmi', hue='음주여부')"
      ],
      "metadata": {
        "colab": {
          "base_uri": "https://localhost:8080/",
          "height": 299
        },
        "id": "bttf8enGEnXR",
        "outputId": "5b604d82-6a49-4786-889c-2998fcc18e10"
      },
      "execution_count": 104,
      "outputs": [
        {
          "output_type": "execute_result",
          "data": {
            "text/plain": [
              "<matplotlib.axes._subplots.AxesSubplot at 0x7f157481d5d0>"
            ]
          },
          "metadata": {},
          "execution_count": 104
        },
        {
          "output_type": "display_data",
          "data": {
            "text/plain": [
              "<Figure size 432x288 with 1 Axes>"
            ],
            "image/png": "[encoded data removed]"
          },
          "metadata": {
            "needs_background": "light"
          }
        }
      ]
    },
    {
      "cell_type": "markdown",
      "source": [
        "음주를 즐기는 사람이 그렇지 않은 사람에 비해 높은 bmi지수를 보일 것이라 예상했지만 그렇지 않았다. 검진 결과 대부분 음주를 하는 사람의 bmi가 그렇지 않은  사람보다 낮은 bmi 지수를 보였다. 특히 100kg을 넘는 음주를 하지 않는 사람의 경우 유난히 높은 bmi지수를 보인다. "
      ],
      "metadata": {
        "id": "qJpGk_jQH1_x"
      }
    },
    {
      "cell_type": "code",
      "source": [
        "sns.scatterplot(data=health, x='체중', y='bmi', hue='성별코드')"
      ],
      "metadata": {
        "colab": {
          "base_uri": "https://localhost:8080/",
          "height": 299
        },
        "id": "DnT8bGKaPDz7",
        "outputId": "0e2c7207-4969-41ba-f187-33f3bb122993"
      },
      "execution_count": 118,
      "outputs": [
        {
          "output_type": "execute_result",
          "data": {
            "text/plain": [
              "<matplotlib.axes._subplots.AxesSubplot at 0x7f15741fe310>"
            ]
          },
          "metadata": {},
          "execution_count": 118
        },
        {
          "output_type": "display_data",
          "data": {
            "text/plain": [
              "<Figure size 432x288 with 1 Axes>"
            ],
            "image/png": "[encoded data removed]"
          },
          "metadata": {
            "needs_background": "light"
          }
        }
      ]
    },
    {
      "cell_type": "markdown",
      "source": [
        "대체로 체중은 남성이 더 높으나, bmi지수는 여성이 더 높은 것으로 나타났다."
      ],
      "metadata": {
        "id": "78ocdtElPUIs"
      }
    },
    {
      "cell_type": "markdown",
      "source": [
        "3. 검사자 많은 지역 top5, 가장 많은 연령대 top5"
      ],
      "metadata": {
        "id": "h6ve6OqLQABA"
      }
    },
    {
      "cell_type": "markdown",
      "source": [
        "* 검사자가 가장 많은 지역  top5"
      ],
      "metadata": {
        "id": "y6WGugAnToav"
      }
    },
    {
      "cell_type": "code",
      "source": [
        "item_count = health['시도'].value_counts()\n",
        "print(item_count[:10])"
      ],
      "metadata": {
        "colab": {
          "base_uri": "https://localhost:8080/"
        },
        "id": "JTkHv-6eQLji",
        "outputId": "a50c36a2-01d6-4143-c95f-edc59252460a"
      },
      "execution_count": 126,
      "outputs": [
        {
          "output_type": "stream",
          "name": "stdout",
          "text": [
            "41    2495\n",
            "11    1644\n",
            "26     681\n",
            "48     663\n",
            "28     561\n",
            "47     523\n",
            "27     495\n",
            "44     430\n",
            "46     395\n",
            "45     392\n",
            "Name: 시도, dtype: int64\n"
          ]
        }
      ]
    },
    {
      "cell_type": "code",
      "source": [
        "item_count[:10].plot(kind='pie')"
      ],
      "metadata": {
        "colab": {
          "base_uri": "https://localhost:8080/",
          "height": 267
        },
        "id": "g2HeC9s9RlLq",
        "outputId": "d90ac105-61cd-46fa-e43a-ced3bffd0f5f"
      },
      "execution_count": 127,
      "outputs": [
        {
          "output_type": "execute_result",
          "data": {
            "text/plain": [
              "<matplotlib.axes._subplots.AxesSubplot at 0x7f15740b4f10>"
            ]
          },
          "metadata": {},
          "execution_count": 127
        },
        {
          "output_type": "display_data",
          "data": {
            "text/plain": [
              "<Figure size 432x288 with 1 Axes>"
            ],
            "image/png": "[encoded data removed]"
          },
          "metadata": {}
        }
      ]
    },
    {
      "cell_type": "code",
      "source": [
        "item_count[:10].plot.bar(rot=0)"
      ],
      "metadata": {
        "colab": {
          "base_uri": "https://localhost:8080/",
          "height": 283
        },
        "id": "RM2zx1-LR8WL",
        "outputId": "57ff129f-795f-42d2-d383-e22a7b9fd463"
      },
      "execution_count": 131,
      "outputs": [
        {
          "output_type": "execute_result",
          "data": {
            "text/plain": [
              "<matplotlib.axes._subplots.AxesSubplot at 0x7f1573e73710>"
            ]
          },
          "metadata": {},
          "execution_count": 131
        },
        {
          "output_type": "display_data",
          "data": {
            "text/plain": [
              "<Figure size 432x288 with 1 Axes>"
            ],
            "image/png": "[encoded data removed]"
          },
          "metadata": {
            "needs_background": "light"
          }
        }
      ]
    },
    {
      "cell_type": "markdown",
      "source": [
        "가장 검사자가 많은 지역 top5는 경기도, 서울특별시, 부산광역시, 경상남도, 인천광역시 이다."
      ],
      "metadata": {
        "id": "_x2a6cf2Qd0V"
      }
    },
    {
      "cell_type": "markdown",
      "source": [
        "* 가장 많은 연령대 top5"
      ],
      "metadata": {
        "id": "f_iipWY5TtBY"
      }
    },
    {
      "cell_type": "code",
      "source": [
        "item_count = health['연령대'].value_counts()\n",
        "print(item_count[:10])"
      ],
      "metadata": {
        "colab": {
          "base_uri": "https://localhost:8080/"
        },
        "id": "pZzR2SapS_9-",
        "outputId": "b05fd229-d25d-4a5b-a844-ed059c2fa46b"
      },
      "execution_count": 133,
      "outputs": [
        {
          "output_type": "stream",
          "name": "stdout",
          "text": [
            "11    1798\n",
            "9     1547\n",
            "13    1534\n",
            "12    1498\n",
            "10    1369\n",
            "14     865\n",
            "15     698\n",
            "16     377\n",
            "17     259\n",
            "18      55\n",
            "Name: 연령대, dtype: int64\n"
          ]
        }
      ]
    },
    {
      "cell_type": "code",
      "source": [
        "item_count[:10].plot(kind='pie')"
      ],
      "metadata": {
        "colab": {
          "base_uri": "https://localhost:8080/",
          "height": 267
        },
        "id": "Qa6YL2tVTOfw",
        "outputId": "850b5505-dba7-4d3c-b198-27be4eabce84"
      },
      "execution_count": 134,
      "outputs": [
        {
          "output_type": "execute_result",
          "data": {
            "text/plain": [
              "<matplotlib.axes._subplots.AxesSubplot at 0x7f1573d92a90>"
            ]
          },
          "metadata": {},
          "execution_count": 134
        },
        {
          "output_type": "display_data",
          "data": {
            "text/plain": [
              "<Figure size 432x288 with 1 Axes>"
            ],
            "image/png": "[encoded data removed]"
          },
          "metadata": {}
        }
      ]
    },
    {
      "cell_type": "code",
      "source": [
        "item_count[:10].plot.bar(rot=0)"
      ],
      "metadata": {
        "colab": {
          "base_uri": "https://localhost:8080/",
          "height": 283
        },
        "id": "ObmP4H-dTfWM",
        "outputId": "0dbc15f5-1e9a-4c1b-998b-ff8185a81239"
      },
      "execution_count": 135,
      "outputs": [
        {
          "output_type": "execute_result",
          "data": {
            "text/plain": [
              "<matplotlib.axes._subplots.AxesSubplot at 0x7f1573d90650>"
            ]
          },
          "metadata": {},
          "execution_count": 135
        },
        {
          "output_type": "display_data",
          "data": {
            "text/plain": [
              "<Figure size 432x288 with 1 Axes>"
            ],
            "image/png": "[encoded data removed]"
          },
          "metadata": {
            "needs_background": "light"
          }
        }
      ]
    },
    {
      "cell_type": "markdown",
      "source": [
        "검사자가 가장 많은 연령대 top5는 50-54세, 40-44세, 60-64세, 55-59세, 45-49세로 40-50대 검사자가 가장 많은 것을 알 수 있다."
      ],
      "metadata": {
        "id": "OemU4WyDS_Fj"
      }
    }
  ]
}